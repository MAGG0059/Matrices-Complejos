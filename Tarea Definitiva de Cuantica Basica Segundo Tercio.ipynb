{
 "cells": [
  {
   "cell_type": "markdown",
   "metadata": {},
   "source": [
    "# Simule el primer sistema cuántico descrito en la sección 4.1.\n",
    "\n",
    "El sistema consiste en una partícula confinada a un conjunto discreto de posiciones en una línea. El simulador debe permitir especificar el número de posiciones y un vector ket de estado asignando las amplitudes.\n",
    "\n",
    "1. El sistema debe calcular la probabilidad de encontrarlo en una posición en particular.\n",
    "\n",
    "2. El sistema si se le da otro vector Ket debe buscar la probabilidad de transitar del primer vector al segundo."
   ]
  },
  {
   "cell_type": "code",
   "execution_count": null,
   "metadata": {},
   "outputs": [
    {
     "name": "stdout",
     "output_type": "stream",
     "text": [
      "ingrese los vectores\n"
     ]
    },
    {
     "name": "stdout",
     "output_type": "stream",
     "text": [
      "Estado 1 normalizado: [0.70710678+0.j 0.70710678+0.j 0.        +0.j 0.        +0.j\n",
      " 0.        +0.j]\n",
      "Estado 2 normalizado: [0.        +0.j 0.70710678+0.j 0.70710678+0.j 0.        +0.j\n",
      " 0.        +0.j]\n",
      "ingrese la posicion a calcular\n",
      "Probabilidad de encontrar la partícula en x1: 0.4999999999999999\n",
      "Probabilidad de transición de ket1 a ket2: 0.2499999999999999\n"
     ]
    }
   ],
   "source": [
    "import numpy as np\n",
    "\n",
    "def normalizar(vector):\n",
    "    \n",
    "    norma = np.linalg.norm(vector)\n",
    "    return vector / norma if norma != 0 else vector\n",
    "\n",
    "def calcular_probabilidad(vector, indice):\n",
    "    amplitud = vector[indice]\n",
    "    return np.abs(amplitud)**2\n",
    "\n",
    "def calcular_probabilidad_transicion(estado1, estado2):\n",
    "    producto_interno = np.dot(conjugado_transpuesto(estado2), estado1)\n",
    "    return np.abs(producto_interno)**2\n",
    "\n",
    "def conjugado_transpuesto(vector):\n",
    "    return np.conjugate(vector.T)\n",
    "\n",
    "print(\"Ingrese los vectores\")\n",
    "vector1 = list(map(int, input(\"Primer vector: \").split()))\n",
    "vector2 = list(map(int, input(\"Segundo vector: \").split()))\n",
    "\n",
    "estado1 = np.array(vector1, dtype=complex)\n",
    "estado2 = np.array(vector2, dtype=complex)\n",
    "\n",
    "estado1 = normalizar(estado1)\n",
    "estado2 = normalizar(estado2)\n",
    "\n",
    "print(\"Estado 1 normalizado:\", estado1)\n",
    "print(\"Estado 2 normalizado:\", estado2)\n",
    "\n",
    "posicion = int(input(\"Ingrese la posición a calcular: \"))\n",
    "print(\"Probabilidad de encontrar la partícula en la posición especificada:\", calcular_probabilidad(estado1, posicion))\n",
    "print(\"Probabilidad de transición entre los estados:\", calcular_probabilidad_transicion(estado1, estado2))\n"
   ]
  },
  {
   "cell_type": "markdown",
   "metadata": {},
   "source": [
    "# Complete los retos de programación del capítulo 4.\n",
    "1. Amplitud de transición. El sistema puede recibir dos vectores y calcular la probabilidad de transitar de el uno al otro después de hacer la observación"
   ]
  },
  {
   "cell_type": "code",
   "execution_count": null,
   "metadata": {},
   "outputs": [],
   "source": [
    "import numpy as np\n",
    "\n",
    "def normalizar(vector):\n",
    "    norma = np.linalg.norm(vector)\n",
    "    return vector / norma if norma != 0 else vector\n",
    "\n",
    "def calcular_probabilidad_transicion(estado1, estado2):\n",
    "    producto_interno = np.dot(conjugado_transpuesto(estado2), estado1)\n",
    "    return np.abs(producto_interno)**2\n",
    "\n",
    "def conjugado_transpuesto(vector):\n",
    "    return np.conjugate(vector.T)\n",
    "\n",
    "print(\"Ingrese los vectores\")\n",
    "vector1 = list(map(int, input(\"Primer vector: \").split()))\n",
    "vector2 = list(map(int, input(\"Segundo vector: \").split()))\n",
    "\n",
    "estado1 = np.array(vector1, dtype=complex)\n",
    "estado2 = np.array(vector2, dtype=complex)\n",
    "\n",
    "estado1 = normalizar(estado1)\n",
    "estado2 = normalizar(estado2)\n",
    "\n",
    "print(\"Probabilidad de transición entre los estados:\", calcular_probabilidad_transicion(estado1, estado2))"
   ]
  },
  {
   "cell_type": "markdown",
   "metadata": {},
   "source": [
    "2. Ahora con una matriz que describa un observable y un vector ket, el sistema revisa que la matriz sea hermitiana, y si lo es, calcula la media y la varianza del observable en el estado dado."
   ]
  },
  {
   "cell_type": "code",
   "execution_count": null,
   "metadata": {},
   "outputs": [],
   "source": [
    "import numpy as np\n",
    "\n",
    "def es_hermitiana(matrix):\n",
    "    return np.allclose(matrix, np.conjugate(matrix.T))\n",
    "\n",
    "def media_observable(matrix, ket):\n",
    "    bra = np.conjugate(ket.T)\n",
    "    return np.real(np.dot(bra, np.dot(matrix, ket)))\n",
    "\n",
    "def varianza_observable(matrix, ket):\n",
    "    mean = media_observable(matrix, ket)\n",
    "    identidad = np.eye(matrix.shape[0])\n",
    "    delta = matrix - mean * identidad\n",
    "    var = media_observable(np.dot(delta, delta), ket)\n",
    "    return var\n",
    "\n",
    "\n",
    "print(\"Ingrese la matriz (fila por fila, separados por espacios.\")\n",
    "rows = int(input(\"Número de filas/columnas: \"))\n",
    "matriz = []\n",
    "for i in range(rows):\n",
    "    fila = list(map(complex, input(f\"Fila\").split()))\n",
    "    matriz.append(fila)\n",
    "matriz = np.array(matriz)\n",
    "\n",
    "print(\"Ingrese el vector ket.\")\n",
    "ket = list(map(complex, input().split()))\n",
    "ket = np.array(ket, dtype=complex)\n",
    "\n",
    "print(\"\\nMatriz observable:\")\n",
    "print(matriz)\n",
    "print(\"Ket:\", ket)\n",
    "\n",
    "if es_hermitiana(matriz):\n",
    "    print(\"La matriz es hermitiana.\")\n",
    "    media = media_observable(matriz, ket)\n",
    "    varianza = varianza_observable(matriz, ket)\n",
    "    print(f\"Media del observable: {media}\")\n",
    "    print(f\"Varianza del observable: {varianza}\")\n",
    "else:\n",
    "    print(\"La matriz NO es hermitiana.\")\n"
   ]
  },
  {
   "cell_type": "markdown",
   "metadata": {},
   "source": [
    "3. El sistema calcula los valores propios del observable y la probabilidad de que el sistema transite a alguno de los vectores propios después de la observación."
   ]
  },
  {
   "cell_type": "code",
   "execution_count": null,
   "metadata": {},
   "outputs": [],
   "source": [
    "import numpy as np\n",
    "\n",
    "def calcular_valores_propios_probabilidades(matriz, vector):\n",
    "    valores_propios, vectores_propios = np.linalg.eigh(matriz)\n",
    "    probabilidades = []\n",
    "    for vector_propio in vectores_propios.T:\n",
    "        amplitud = np.dot(np.conjugate(vector_propio.T), vector)\n",
    "        probabilidad = np.abs(amplitud)**2\n",
    "        probabilidades.append(probabilidad)\n",
    "    return valores_propios, probabilidades\n",
    "\n",
    "print(\"Ingrese los elementos de la matriz observable, separando las filas por espacios:\")\n",
    "dimension = int(input(\"Ingrese el tamaño de la matriz (cantidad de filas y columnas): \"))\n",
    "matriz_observable = []\n",
    "for i in range(dimension):\n",
    "    fila = list(map(complex, input(f\"Ingrese la fila {i+1}: \").split()))\n",
    "    matriz_observable.append(fila)\n",
    "matriz_observable = np.array(matriz_observable)\n",
    "\n",
    "print(\"Ingrese los valores del vector de estado (ejemplo: 1 0):\")\n",
    "vector_estado = list(map(complex, input().split()))\n",
    "vector_estado = np.array(vector_estado, dtype=complex)\n",
    "\n",
    "valores_propios, probabilidades = calcular_valores_propios_probabilidades(matriz_observable, vector_estado)\n",
    "print(\"\\nValores propios de la matriz observable:\", valores_propios)\n",
    "print(\"Probabilidad de transición hacia cada autovector:\")\n",
    "for i, probabilidad in enumerate(probabilidades):\n",
    "    print(f\"  Autovector {i+1}: {probabilidad}\")"
   ]
  },
  {
   "cell_type": "markdown",
   "metadata": {},
   "source": [
    "4. Se considera la dinámica del sistema. Ahora con una serie de matrices Un el sistema calcula el estado final a partir de un estado inicial."
   ]
  },
  {
   "cell_type": "code",
   "execution_count": null,
   "metadata": {},
   "outputs": [],
   "source": [
    "import numpy as np\n",
    "\n",
    "def matriz_es_unitaria(matriz):\n",
    "    identidad = np.eye(matriz.shape[0])\n",
    "    return np.allclose(np.dot(np.conjugate(matriz.T), matriz), identidad)\n",
    "\n",
    "def aplicar_transformacion(matriz, vector):\n",
    "    return np.dot(matriz, vector)\n",
    "\n",
    "print(\"Introduzca la matriz unitaria, ingresando cada fila separada por espacios:\")\n",
    "tamano = int(input(\"Número de filas y columnas: \"))\n",
    "matriz_unitaria = []\n",
    "for i in range(tamano):\n",
    "    fila = list(map(complex, input(f\"Fila {i+1}: \").split()))\n",
    "    matriz_unitaria.append(fila)\n",
    "matriz_unitaria = np.array(matriz_unitaria)\n",
    "\n",
    "print(\"Ingrese el vector de estado inicial:\")\n",
    "vector_estado = list(map(complex, input().split()))\n",
    "vector_estado = np.array(vector_estado, dtype=complex)\n",
    "\n",
    "if matriz_es_unitaria(matriz_unitaria):\n",
    "    print(\"La matriz ingresada es unitaria.\")\n",
    "    estado_final = aplicar_transformacion(matriz_unitaria, vector_estado)\n",
    "    print(\"Estado resultante:\", estado_final)\n",
    "else:\n",
    "    print(\"La matriz ingresada no es unitaria.\")\n",
    "\n"
   ]
  },
  {
   "cell_type": "markdown",
   "metadata": {},
   "source": [
    "## Realice los siguientes problemas e incluyalos como ejemplos\n",
    "Modele en su librería los problemas"
   ]
  },
  {
   "cell_type": "markdown",
   "metadata": {},
   "source": [
    "### Exercise 4.3.1"
   ]
  },
  {
   "cell_type": "code",
   "execution_count": null,
   "metadata": {},
   "outputs": [],
   "source": [
    "import numpy as np\n",
    "\n",
    "estado_arriba = np.array([[1], [0]])\n",
    "\n",
    "operador_Sx = 0.5 * np.array([[0, 1],\n",
    "                              [1, 0]])\n",
    "\n",
    "autovalores, autovectores = np.linalg.eigh(operador_Sx)\n",
    "\n",
    "print(\"Autovalores del operador Sx:\")\n",
    "print(autovalores)\n",
    "\n",
    "print(\"\\nAutovectores del operador Sx:\")\n",
    "print(autovectores)\n",
    "\n",
    "print(\"\\nEstados posibles después de la medición:\")\n",
    "for i in range(len(autovalores)):\n",
    "    print(f\"Estado {i+1}:\")\n",
    "    print(autovectores[:, i])\n",
    "\n",
    "print(\"======================================\")\n",
    "\n",
    "estado_resultante = np.dot(operador_Sx, estado_arriba)\n",
    "\n",
    "print(\"Estado obtenido tras aplicar Sx:\")\n",
    "print(estado_resultante)\n",
    "\n",
    "probabilidad_permanencia = np.abs(np.dot(estado_arriba.T.conj(), estado_resultante))**2\n",
    "print(f\"\\nProbabilidad de permanecer en estado 'spin up': {probabilidad_permanencia[0][0]}\")\n",
    "\n"
   ]
  },
  {
   "cell_type": "markdown",
   "metadata": {},
   "source": [
    "### 4.4.1"
   ]
  },
  {
   "cell_type": "code",
   "execution_count": null,
   "metadata": {},
   "outputs": [],
   "source": [
    "import numpy as np\n",
    "\n",
    "def matriz_es_unitaria(matriz):\n",
    "    identidad = np.eye(matriz.shape[0])\n",
    "    return np.allclose(np.dot(np.conjugate(matriz.T), matriz), identidad)\n",
    "\n",
    "U1 = np.array([[0, 1],\n",
    "               [1, 0]])\n",
    "\n",
    "U2 = np.array([[np.sqrt(2)/2, np.sqrt(2)/2],\n",
    "               [np.sqrt(2)/2, -np.sqrt(2)/2]])\n",
    "\n",
    "print(\"Matriz U1:\")\n",
    "print(U1)\n",
    "print(\"¿Es U1 una matriz unitaria?\", matriz_es_unitaria(U1))\n",
    "\n",
    "print(\"\\n-------------------\")\n",
    "\n",
    "print(\"Matriz U2:\")\n",
    "print(U2)\n",
    "print(\"¿Es U2 una matriz unitaria?\", matriz_es_unitaria(U2))\n",
    "\n",
    "print(\"\\n-------------------\")\n",
    "\n",
    "producto = np.dot(U1, U2)\n",
    "print(\"Producto de U1 * U2:\")\n",
    "print(producto)\n",
    "print(\"¿El producto de U1 y U2 es una matriz unitaria?\", matriz_es_unitaria(producto))\n",
    "\n"
   ]
  },
  {
   "cell_type": "markdown",
   "metadata": {},
   "source": [
    "### 4.4.2"
   ]
  },
  {
   "cell_type": "code",
   "execution_count": null,
   "metadata": {},
   "outputs": [],
   "source": [
    "import numpy as np\n",
    "\n",
    "estado_inicial = np.array([[1], [0], [0], [0]], dtype=complex)\n",
    "\n",
    "matriz_unitaria = np.array([\n",
    "    [0, 1/np.sqrt(2), 1/np.sqrt(2), 0],\n",
    "    [1j/np.sqrt(2), 0, 0, 1/np.sqrt(2)],\n",
    "    [1/np.sqrt(2), 0, 0, 1j/np.sqrt(2)],\n",
    "    [0, 1/np.sqrt(2), -1/np.sqrt(2), 0]\n",
    "], dtype=complex)\n",
    "\n",
    "print(\"Matriz unitaria:\")\n",
    "print(matriz_unitaria)\n",
    "print(\"Estado inicial:\")\n",
    "print(estado_inicial)\n",
    "\n",
    "estado_actual = estado_inicial\n",
    "for paso in range(3):\n",
    "    estado_actual = np.dot(matriz_unitaria, estado_actual)\n",
    "    print(f\"\\nEstado después del paso {paso+1}:\")\n",
    "    print(estado_actual)\n",
    "\n",
    "probabilidad_final = np.abs(estado_actual[2, 0])**2\n",
    "print(f\"\\nProbabilidad de encontrar la partícula en la posición 3: {probabilidad_final:.4f}\")\n"
   ]
  },
  {
   "cell_type": "markdown",
   "metadata": {},
   "source": [
    "#### 4.5.2\n",
    "En un sistema compuesto por dos partículas con espín, cada una puede encontrarse en un estado de espín hacia arriba o hacia abajo. Al extender esta idea a un sistema con n partículas, el espacio total de estados se obtiene mediante el producto tensorial de los estados individuales, resultando en un espacio de dimensión 2^n\n",
    "\n",
    "|↑⟩ = |0⟩ (espin up)\n",
    "\n",
    "|↓⟩ = |1⟩ (espin down)\n",
    "\n",
    "ψ⟩=a00 ∣0⟩ ⊗ ∣0⟩ + a01 ∣0⟩ ⊗ ∣1⟩ + a10​ ∣1⟩ ⊗ ∣0⟩ + a11​ ∣1⟩ ⊗ ∣1⟩"
   ]
  },
  {
   "cell_type": "markdown",
   "metadata": {},
   "source": [
    "#### 4.5.3\n",
    "\n",
    "Un estado cuántico se considera separable si puede expresarse como el producto tensorial de dos vectores de estado individuales, es decir:\n",
    "\n",
    "∣ϕ⟩=∣x0⟩ ⊗ ∣y1⟩ + ∣x1​⟩ ⊗ ∣y1​⟩ = (∣x0⟩+∣x1⟩) ⊗ \n",
    "\n",
    "Al ser producto tensorial si es separable."
   ]
  }
 ],
 "metadata": {
  "kernelspec": {
   "display_name": ".venv",
   "language": "python",
   "name": "python3"
  },
  "language_info": {
   "codemirror_mode": {
    "name": "ipython",
    "version": 3
   },
   "file_extension": ".py",
   "mimetype": "text/x-python",
   "name": "python",
   "nbconvert_exporter": "python",
   "pygments_lexer": "ipython3",
   "version": "3.13.2"
  }
 },
 "nbformat": 4,
 "nbformat_minor": 2
}
