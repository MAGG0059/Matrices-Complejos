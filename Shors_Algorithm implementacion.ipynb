{
 "cells": [
  {
   "cell_type": "markdown",
   "id": "12d80eb4",
   "metadata": {},
   "source": [
    "# Shor's Algorithm Workshop"
   ]
  },
  {
   "cell_type": "markdown",
   "id": "b8310326",
   "metadata": {},
   "source": [
    "\n",
    "## Introduction\n",
    "\n",
    "Shor's algorithm, proposed by Peter Shor in 1994, is a quantum algorithm for integer factorization. Given an integer $N$, it finds its prime factors with polynomial time complexity, which is significantly faster than the best-known classical algorithms that run in super-polynomial time. This efficiency presents a threat to RSA encryption, which relies on the difficulty of factorization.\n",
    "\n",
    "This workshop introduces the fundamentals of Shor's algorithm, explores its quantum mechanics, and demonstrates its implementation using quantum circuits.\n"
   ]
  },
  {
   "cell_type": "markdown",
   "id": "bab26598",
   "metadata": {},
   "source": [
    "# Modular arithmetic\n",
    "\n",
    "Consider $ N, a \\in \\mathbb{N}$ and $ a \\lt N$\n",
    "\n",
    "$ a \\mod N$ is the remainder or residue of the quoatient $a/N$\n",
    "\n",
    "## Examples:\n"
   ]
  },
  {
   "cell_type": "markdown",
   "id": "2b567c80",
   "metadata": {},
   "source": [
    "### 1. Basic Modulo Operation\n",
    "\n",
    "The modulo operation finds the remainder after division of one number by another."
   ]
  },
  {
   "cell_type": "code",
   "execution_count": null,
   "id": "69c93b75",
   "metadata": {},
   "outputs": [
    {
     "name": "stdout",
     "output_type": "stream",
     "text": [
      "10 mod 3 = 1\n"
     ]
    }
   ],
   "source": [
    "remainder = 10 % 3\n",
    "print(\"10 mod 3 =\", remainder)"
   ]
  },
  {
   "cell_type": "markdown",
   "id": "b38c2778",
   "metadata": {},
   "source": [
    "### 2. Modulo with Negative Numbers\n",
    "\n",
    "Modulo operations involving negative numbers adhere to the sign of the divisor."
   ]
  },
  {
   "cell_type": "code",
   "execution_count": null,
   "id": "f98fdd07",
   "metadata": {},
   "outputs": [
    {
     "name": "stdout",
     "output_type": "stream",
     "text": [
      "-1 mod 371 = 370\n"
     ]
    }
   ],
   "source": [
    "negative_modulo = -1 % 371  # Remainder when -10 is divided by 3\n",
    "print(\"-1 mod 371 =\", negative_modulo)"
   ]
  },
  {
   "cell_type": "code",
   "execution_count": null,
   "id": "eb3f7177",
   "metadata": {},
   "outputs": [
    {
     "name": "stdout",
     "output_type": "stream",
     "text": [
      "0 mod 371 = 0\n"
     ]
    }
   ],
   "source": [
    "negative_modulo = 0 % 371  # Remainder when -10 is divided by 3\n",
    "print(\"0 mod 371 =\", negative_modulo)"
   ]
  },
  {
   "cell_type": "markdown",
   "id": "849af989",
   "metadata": {},
   "source": [
    "## Congruence\n",
    "\n",
    "We write $a \\equiv b \\text{ (mod N)}$ si y solo si $(a \\mod N) = (b \\mod N)$\n",
    "\n",
    "or equivalently, $a-b= k N$ with k an integer, i.e., $N|(a-b)$, N is a divisor\n",
    "of $a-b$\n",
    "\n",
    "### Examples:\n",
    "$17 \\equiv 2 \\text{ (mod 15)}$\n",
    "\n",
    "$534 \\equiv 1479 \\text{ (mod 15)}$\n",
    "\n",
    "$3350 \\equiv 2237 \\text{ (mod 371)}$\n",
    "\n",
    "### Exercises\n",
    "\n",
    "Show that:\n",
    "\n",
    "$1977 \\equiv 1 \\text{ (mod 247)}$\n",
    "\n",
    "$16183 \\equiv 15442 \\text{ (mod 247)}$ "
   ]
  },
  {
   "cell_type": "markdown",
   "id": "c15affed",
   "metadata": {},
   "source": [
    "# Ejercicio 1\n",
    "\n"
   ]
  },
  {
   "cell_type": "code",
   "execution_count": 11,
   "id": "869d1049",
   "metadata": {},
   "outputs": [
    {
     "name": "stdout",
     "output_type": "stream",
     "text": [
      "1977 mod 247 = 1\n"
     ]
    }
   ],
   "source": [
    "remainder =  1977 % 247\n",
    "\n",
    "print(\"1977 mod 247 =\", remainder)"
   ]
  },
  {
   "cell_type": "code",
   "execution_count": 12,
   "id": "75ad13d2",
   "metadata": {},
   "outputs": [
    {
     "name": "stdout",
     "output_type": "stream",
     "text": [
      "1 mod 247 = 1\n"
     ]
    }
   ],
   "source": [
    "remainder =  1 % 247\n",
    "\n",
    "\n",
    "print(\"1 mod 247 =\", remainder)"
   ]
  },
  {
   "cell_type": "markdown",
   "id": "7e4df161",
   "metadata": {},
   "source": [
    "#   Ejercicio 2\n"
   ]
  },
  {
   "cell_type": "code",
   "execution_count": null,
   "id": "8f18b173",
   "metadata": {},
   "outputs": [
    {
     "name": "stdout",
     "output_type": "stream",
     "text": [
      "16183 mod 247 = 128\n"
     ]
    }
   ],
   "source": [
    "##basandose en: (a \\mod N) = (b \\mod N)\n",
    "remainder =  16183 % 247\n",
    "\n",
    "print(\"16183 mod 247 =\", remainder)"
   ]
  },
  {
   "cell_type": "code",
   "execution_count": null,
   "id": "1291eeec",
   "metadata": {},
   "outputs": [
    {
     "name": "stdout",
     "output_type": "stream",
     "text": [
      "15442 mod 247 = 128\n"
     ]
    }
   ],
   "source": [
    "##basandose en: (a \\mod N) = (b \\mod N)\n",
    "remainder =  15442 % 247\n",
    "\n",
    "print(\"15442 mod 247 =\", remainder)"
   ]
  },
  {
   "cell_type": "markdown",
   "id": "e57bf292",
   "metadata": {},
   "source": [
    "\n",
    "# Modular exponentiation\n",
    "\n",
    "Suppose we have a number $N$ and we want to know a factor of $N$. To facilitate\n",
    "the task of finding factors of $N$ suppose that $N = 2^n$.\n",
    "\n",
    "Let us randomly choose an integer $a$ that is less than $N$ such that $a$ does\n",
    "not have common factors with N (apart from 1).\n",
    "\n",
    "You can test if $a$ and $N$ have common factors using $GCD(a,N)$. If\n",
    "$GCD(a,N) \\neq 1$ we have found a factor of $N$ and we are done.\n",
    "\n",
    "If $GCD(a,N) = 1$ $a$ and $N$ are called coprimes. If $a$ is coprime with $N$ we\n",
    "can use $a$ for the nest step oof the algorithm.\n",
    "\n",
    "We now need to compute the following function:\n",
    "\n",
    "$f_{a,n}= a^x \\mod N$ for al integers between $0$ and $N$ \n",
    "\n",
    "## Example\n",
    "Consider N=15 and a=2"
   ]
  },
  {
   "cell_type": "code",
   "execution_count": 1,
   "id": "5aebd461",
   "metadata": {},
   "outputs": [
    {
     "name": "stderr",
     "output_type": "stream",
     "text": [
      "Matplotlib is building the font cache; this may take a moment.\n"
     ]
    },
    {
     "name": "stdout",
     "output_type": "stream",
     "text": [
      "Periodo:  4\n",
      "      x   = [ 0  1  2  3  4  5  6  7  8  9 10 11 12 13 14]\n",
      " f(x)_a_N = [1 2 4 8 1 2 4 8 1 2 4 8 1 2 4]\n"
     ]
    },
    {
     "data": {
      "image/png": "[encoded data removed]",
      "text/plain": [
       "<Figure size 640x480 with 1 Axes>"
      ]
     },
     "metadata": {},
     "output_type": "display_data"
    }
   ],
   "source": [
    "import matplotlib.pyplot as plt\n",
    "import numpy as np\n",
    "\n",
    "def powersAModuloN(a,N):\n",
    "    powers = []\n",
    "    for i in range(N):\n",
    "        powers.append(a**i % N)\n",
    "    return powers\n",
    "\n",
    "def periodoDeF(a,N):\n",
    "    powers =powersAModuloN(a,N)\n",
    "    return powers.index(1,1)\n",
    "\n",
    "\n",
    "def computeAndDrawPowersAModuloN(a,N):\n",
    "    powers_a_N = powersAModuloN(a,N)\n",
    "    print(\"Periodo: \", periodoDeF(a, N))\n",
    "    xpoints = np.array(range(N))\n",
    "    ypoints = np.array(powers_a_N)\n",
    "\n",
    "    print(\"      x   =\", xpoints)\n",
    "    print(\" f(x)_a_N =\", ypoints)\n",
    "    plt.bar(xpoints, ypoints)\n",
    "    plt.show()\n",
    "\n",
    "N = 15\n",
    "a = 2\n",
    "computeAndDrawPowersAModuloN(a,N)"
   ]
  },
  {
   "cell_type": "code",
   "execution_count": null,
   "id": "9c1239f9",
   "metadata": {},
   "outputs": [],
   "source": [
    "N = 15\n",
    "a = 4\n",
    "computeAndDrawPowersAModuloN(a,N)"
   ]
  },
  {
   "cell_type": "code",
   "execution_count": null,
   "id": "451fe0c0",
   "metadata": {},
   "outputs": [],
   "source": [
    "N = 15\n",
    "a = 13\n",
    "computeAndDrawPowersAModuloN(a,N)"
   ]
  },
  {
   "cell_type": "code",
   "execution_count": null,
   "id": "d9d3e225",
   "metadata": {},
   "outputs": [],
   "source": [
    "N = 371\n",
    "a = 2\n",
    "computeAndDrawPowersAModuloN(a,N)"
   ]
  },
  {
   "cell_type": "markdown",
   "id": "70dd0b94",
   "metadata": {},
   "source": [
    "## A more efficient way of computing $f_{a,N}(x)$"
   ]
  },
  {
   "cell_type": "markdown",
   "id": "e8a4aba8",
   "metadata": {},
   "source": [
    "### Can we compute $fa_{a,N}(x)$ more efficiently?\n",
    "\n",
    "if $a \\equiv a' \\text{ (mod N)}$ and $a \\equiv b' \\text{ (mod N)}$, then\n",
    "\n",
    "$$a \\times b \\equiv a' \\times b' \\text{ (mod N)}$$ \n",
    "\n",
    "and\n",
    "\n",
    "$$ (a \\times b) \\mod N = ((a \\mod N) \\times (b\\mod N)) \\mod N$$\n",
    "\n",
    "From this we can write:\n",
    "\n",
    "$$a^x \\mod N = a^{x-1} \\times a \\mod N = ((a^{x-1} \\mod N) \\times (a \\mod N))\n",
    "\\mod N$$\n",
    "\n",
    "where $a \\mod N = a$ because $a < N$, then we can simplify further:\n",
    "\n",
    "$$f_{a,N}(x)=a^x \\mod N = ((a^{x-1} \\mod N) \\times a) \\mod N$$\n",
    "\n",
    "with \n",
    "$$f_{a,N}(0) = a^0 \\mod N = 1$$"
   ]
  },
  {
   "cell_type": "code",
   "execution_count": 19,
   "id": "415d2c43",
   "metadata": {},
   "outputs": [],
   "source": [
    "def powersAModuloNRecursive(a,N):\n",
    "    powers = []\n",
    "    powers.append(1)\n",
    "\n",
    "    for i in range(1, N):\n",
    "        powers.append((powers[i-1] * a) % N)\n",
    "    return powers\n",
    "\n",
    "def computeAndDrawRecursivelyPowersAModuloN(a,N):\n",
    "    powers_a_N = powersAModuloN(a,N)\n",
    "    print(\"Periodo: \", periodoDeF(a, N))\n",
    "    xpoints = np.array(range(N))\n",
    "    ypoints = np.array(powers_a_N)\n",
    "\n",
    "    print(\"      x   =\", xpoints)\n",
    "    print(\" f(x)_a_N =\", ypoints)\n",
    "    plt.bar(xpoints, ypoints)\n",
    "    plt.show()"
   ]
  },
  {
   "cell_type": "code",
   "execution_count": null,
   "id": "9b6ce50a",
   "metadata": {},
   "outputs": [],
   "source": [
    "N = 371\n",
    "a = 24\n",
    "computeAndDrawRecursivelyPowersAModuloN(a,N)"
   ]
  },
  {
   "cell_type": "code",
   "execution_count": null,
   "id": "5dd4dc45",
   "metadata": {},
   "outputs": [],
   "source": [
    "N = 371\n",
    "a = 6\n",
    "computeAndDrawRecursivelyPowersAModuloN(a,N)"
   ]
  },
  {
   "cell_type": "markdown",
   "id": "e573ff52",
   "metadata": {},
   "source": [
    "## Finding the period of $f_{a,N}$"
   ]
  },
  {
   "cell_type": "markdown",
   "id": "0dd500fb",
   "metadata": {},
   "source": [
    "What we need is the period of the function, i.e., we need to find the\n",
    "smallest $r > 0$ such that\n",
    "\n",
    "$$ f_{a,N}(r) = a^r \\mod N = 1$$\n",
    "we can do this by simple inspection of the figures.\n",
    "\n",
    "## Example"
   ]
  },
  {
   "cell_type": "code",
   "execution_count": null,
   "id": "40fc9d47",
   "metadata": {},
   "outputs": [],
   "source": [
    "N = 371\n",
    "a = 6\n",
    "\n",
    "print(\"Periodo: \", periodoDeF(a, N))"
   ]
  },
  {
   "cell_type": "markdown",
   "id": "28c49846",
   "metadata": {},
   "source": [
    "A theorem of number theory says that for any co-prime $a≤ N$, the function\n",
    "$f_{a, N} will output a 1 for some $r < N$. After this, the sequence of numbers\n",
    "will repeat. \n",
    "\n",
    "If $f_{a, N}(r) = 1$, then\n",
    "\n",
    "$$ f_{a,N}(x+r) = f_{a,N}(x) $$\n"
   ]
  },
  {
   "cell_type": "markdown",
   "id": "c19c12b2",
   "metadata": {},
   "source": [
    "## From the Period to factors\n",
    "\n",
    "We need an even number as period. If the period is not even choose another $a$\n",
    "and repeat the calculation.\n",
    "\n",
    "With the information of the period $r$ we can now compute the factors follows:\n",
    "\n",
    "We know that \n",
    "\n",
    "$a^r \\equiv 1 \\text{ ( mod N)}$\n",
    "\n",
    "subtract 1 from both sides\n",
    "\n",
    "$a^r -1 \\equiv 0 \\text{ ( mod N)}$\n",
    "\n",
    "Thus, $N$ is a divisor of $a^r -1 $\n",
    "\n",
    "$ N|(a^r -1)$\n",
    "\n",
    "We know that $x^2 - y^2 = (x+y)(x-y)$, then we can rewrite\n",
    "\n",
    "$ N|(\\sqrt{a^r} + 1)(\\sqrt{a^r} - 1)$\n",
    "\n",
    "or\n",
    "\n",
    "$ N|(a^\\frac{r}{2} + 1)(a^\\frac{r}{2} - 1)$   \n",
    "\n",
    "Note: If $r$ were odd we could not divide by 2 and get an integer\n",
    "\n",
    "from this equation we now know that any factor of N is also a factor of $(a^\\frac{r}{2} + 1)$\n",
    "or of $(a^\\frac{r}{2} - 1)$ or of both.\n",
    "\n",
    "So we can find the factors looking at:\n",
    "\n",
    "$GCD(a^\\frac{r}{2} + 1, N)$ \n",
    "\n",
    "or\n",
    "\n",
    "$GCD(a^\\frac{r}{2} + 1, N)$\n",
    "\n",
    "GCD can implement the classical Euclidean algorithm.\n",
    "\n",
    "\n",
    "**IMPORTANT:** $a^\\frac{r}{2} \\not\\equiv -1 \\text{ (mod N)}$ if so choose\n",
    "another $a$.\n",
    "\n"
   ]
  },
  {
   "cell_type": "markdown",
   "id": "fe7506e6",
   "metadata": {},
   "source": [
    "## Examples"
   ]
  },
  {
   "cell_type": "code",
   "execution_count": 21,
   "id": "107885fc",
   "metadata": {},
   "outputs": [
    {
     "name": "stdout",
     "output_type": "stream",
     "text": [
      "f_a_N= [1, 24, 205, 97, 102, 222, 134, 248, 16, 13, 312, 68, 148, 213, 289, 258, 256, 208, 169, 346, 142, 69, 172, 47, 15, 360, 107, 342, 46, 362, 155, 10, 240, 195, 228, 278, 365, 227, 254, 160, 130, 152, 309, 367, 275, 293, 354, 334, 225, 206, 121, 307, 319, 236, 99, 150, 261, 328, 81, 89, 281, 66, 100, 174, 95, 54, 183, 311, 44, 314, 116, 187, 36, 122, 331, 153, 333, 201, 1, 24, 205, 97, 102, 222, 134, 248, 16, 13, 312, 68, 148, 213, 289, 258, 256, 208, 169, 346, 142, 69, 172, 47, 15, 360, 107, 342, 46, 362, 155, 10, 240, 195, 228, 278, 365, 227, 254, 160, 130, 152, 309, 367, 275, 293, 354, 334, 225, 206, 121, 307, 319, 236, 99, 150, 261, 328, 81, 89, 281, 66, 100, 174, 95, 54, 183, 311, 44, 314, 116, 187, 36, 122, 331, 153, 333, 201, 1, 24, 205, 97, 102, 222, 134, 248, 16, 13, 312, 68, 148, 213, 289, 258, 256, 208, 169, 346, 142, 69, 172, 47, 15, 360, 107, 342, 46, 362, 155, 10, 240, 195, 228, 278, 365, 227, 254, 160, 130, 152, 309, 367, 275, 293, 354, 334, 225, 206, 121, 307, 319, 236, 99, 150, 261, 328, 81, 89, 281, 66, 100, 174, 95, 54, 183, 311, 44, 314, 116, 187, 36, 122, 331, 153, 333, 201, 1, 24, 205, 97, 102, 222, 134, 248, 16, 13, 312, 68, 148, 213, 289, 258, 256, 208, 169, 346, 142, 69, 172, 47, 15, 360, 107, 342, 46, 362, 155, 10, 240, 195, 228, 278, 365, 227, 254, 160, 130, 152, 309, 367, 275, 293, 354, 334, 225, 206, 121, 307, 319, 236, 99, 150, 261, 328, 81, 89, 281, 66, 100, 174, 95, 54, 183, 311, 44, 314, 116, 187, 36, 122, 331, 153, 333, 201, 1, 24, 205, 97, 102, 222, 134, 248, 16, 13, 312, 68, 148, 213, 289, 258, 256, 208, 169, 346, 142, 69, 172, 47, 15, 360, 107, 342, 46, 362, 155, 10, 240, 195, 228, 278, 365, 227, 254, 160, 130, 152, 309, 367, 275, 293, 354, 334, 225, 206, 121, 307, 319, 236, 99, 150, 261, 328, 81]\n",
      "period of f_a_N= 78\n",
      "a^(period/2) Mod N =  254.0\n",
      "(-1) Mod N=  370\n",
      "factor1=  1.0\n",
      "factor2=  1.0\n",
      "6.733462204819059e+53\n",
      "gcd(161,371)= 7\n",
      "We can do this because 160 congruent with 24^39\n"
     ]
    },
    {
     "data": {
      "image/png": "[encoded data removed]",
      "text/plain": [
       "<Figure size 640x480 with 1 Axes>"
      ]
     },
     "metadata": {},
     "output_type": "display_data"
    }
   ],
   "source": [
    "def findPeriod(a, N):\n",
    "    powers = powersAModuloNRecursive(a, N)\n",
    "    return powers.index(1,1)\n",
    "\n",
    "def gcd(a, b):\n",
    "    while b != 0:\n",
    "        t = b\n",
    "        b = a % b\n",
    "        a = t\n",
    "    return a\n",
    "\n",
    "if __name__ == '__main__':\n",
    "    N = 371\n",
    "    a = 24\n",
    "    powers_a_N = powersAModuloNRecursive(a,N)\n",
    "    xpoints = np.array(range(N))\n",
    "    ypoints = np.array(powers_a_N)\n",
    "\n",
    "    print(\"f_a_N=\", powers_a_N)\n",
    "    period = findPeriod(a, N)\n",
    "    print(\"period of f_a_N=\", period)\n",
    "\n",
    "    print(\"a^(period/2) Mod N = \", (a**(period/2)) % N)\n",
    "    print(\"(-1) Mod N= \",  (-1) % N)\n",
    "    print(\"factor1= \", gcd((a**(period/2)) + 1, N))\n",
    "    print(\"factor2= \", gcd((a**(period/2)) - 1, N))\n",
    "\n",
    "    print((a**(period/2)) +1)\n",
    "    print(\"gcd(161,371)=\",gcd(161,371))\n",
    "    print(\"We can do this because 160 congruent with 24^39\")\n",
    "\n",
    "    plt.bar(xpoints, ypoints)\n",
    "    plt.show()"
   ]
  },
  {
   "cell_type": "markdown",
   "id": "da3cba4f",
   "metadata": {},
   "source": [
    "## Exercise\n",
    "Compute the factors of $N=247$ using $a=2$"
   ]
  },
  {
   "cell_type": "markdown",
   "id": "b953fb5d",
   "metadata": {},
   "source": [
    "# Ejercicio 3"
   ]
  },
  {
   "cell_type": "code",
   "execution_count": 24,
   "id": "ef2e1aeb",
   "metadata": {},
   "outputs": [
    {
     "name": "stdout",
     "output_type": "stream",
     "text": [
      "f_a_N= [1, 2, 4, 8, 16, 32, 64, 128, 9, 18, 36, 72, 144, 41, 82, 164, 81, 162, 77, 154, 61, 122, 244, 241, 235, 223, 199, 151, 55, 110, 220, 193, 139, 31, 62, 124, 1, 2, 4, 8, 16, 32, 64, 128, 9, 18, 36, 72, 144, 41, 82, 164, 81, 162, 77, 154, 61, 122, 244, 241, 235, 223, 199, 151, 55, 110, 220, 193, 139, 31, 62, 124, 1, 2, 4, 8, 16, 32, 64, 128, 9, 18, 36, 72, 144, 41, 82, 164, 81, 162, 77, 154, 61, 122, 244, 241, 235, 223, 199, 151, 55, 110, 220, 193, 139, 31, 62, 124, 1, 2, 4, 8, 16, 32, 64, 128, 9, 18, 36, 72, 144, 41, 82, 164, 81, 162, 77, 154, 61, 122, 244, 241, 235, 223, 199, 151, 55, 110, 220, 193, 139, 31, 62, 124, 1, 2, 4, 8, 16, 32, 64, 128, 9, 18, 36, 72, 144, 41, 82, 164, 81, 162, 77, 154, 61, 122, 244, 241, 235, 223, 199, 151, 55, 110, 220, 193, 139, 31, 62, 124, 1, 2, 4, 8, 16, 32, 64, 128, 9, 18, 36, 72, 144, 41, 82, 164, 81, 162, 77, 154, 61, 122, 244, 241, 235, 223, 199, 151, 55, 110, 220, 193, 139, 31, 62, 124, 1, 2, 4, 8, 16, 32, 64, 128, 9, 18, 36, 72, 144, 41, 82, 164, 81, 162, 77, 154, 61, 122, 244, 241, 235, 223, 199, 151, 55, 110, 220]\n",
      "period of f_a_N= 36\n",
      "a^(period/2) Mod N =  77.0\n",
      "(-1) Mod N=  246\n",
      "factor1=  13.0\n",
      "factor2=  19.0\n",
      "262145.0\n",
      "gcd(161,371)= 7\n",
      "We can do this because 160 congruent with 24^39\n"
     ]
    },
    {
     "data": {
      "image/png": "[encoded data removed]",
      "text/plain": [
       "<Figure size 640x480 with 1 Axes>"
      ]
     },
     "metadata": {},
     "output_type": "display_data"
    }
   ],
   "source": [
    "def findPeriod(a, N):\n",
    "    powers = powersAModuloNRecursive(a, N)\n",
    "    return powers.index(1,1)\n",
    "\n",
    "def gcd(a, b):\n",
    "    while b != 0:\n",
    "        t = b\n",
    "        b = a % b\n",
    "        a = t\n",
    "    return a\n",
    "\n",
    "if __name__ == '__main__':\n",
    "    N = 247\n",
    "    a = 2\n",
    "    powers_a_N = powersAModuloNRecursive(a,N)\n",
    "    xpoints = np.array(range(N))\n",
    "    ypoints = np.array(powers_a_N)\n",
    "\n",
    "    print(\"f_a_N=\", powers_a_N)\n",
    "    period = findPeriod(a, N)\n",
    "    print(\"period of f_a_N=\", period)\n",
    "\n",
    "    print(\"a^(period/2) Mod N = \", (a**(period/2)) % N)\n",
    "    print(\"(-1) Mod N= \",  (-1) % N)\n",
    "    print(\"factor1= \", gcd((a**(period/2)) + 1, N))\n",
    "    print(\"factor2= \", gcd((a**(period/2)) - 1, N))\n",
    "\n",
    "    print((a**(period/2)) +1)\n",
    "    print(\"gcd(161,371)=\",gcd(161,371))\n",
    "    print(\"We can do this because 160 congruent with 24^39\")\n",
    "\n",
    "    plt.bar(xpoints, ypoints)\n",
    "    plt.show()"
   ]
  },
  {
   "cell_type": "markdown",
   "id": "16f60e07",
   "metadata": {},
   "source": [
    "# The quantum algorithm"
   ]
  },
  {
   "cell_type": "markdown",
   "id": "45c17f49",
   "metadata": {},
   "source": [
    "$a$ is always less than $N$ so we need $n=log_2 N$ qbits as output.\n",
    "\n",
    "We need to evaluate $f_{a,N}$ in at least $N^2$ values of $x$, so $m = log_2 N^2\n",
    "= 2 log_2 N = 2n$\n",
    "\n",
    "![Shor's algorithm!](images/shoralgorithm.jpg)"
   ]
  },
  {
   "cell_type": "markdown",
   "id": "7577f43c",
   "metadata": {},
   "source": [
    "$\\ket{\\psi_0} = \\ket{\\boldsymbol{0_m}, \\boldsymbol{0_n}}$"
   ]
  },
  {
   "cell_type": "markdown",
   "id": "85303656",
   "metadata": {},
   "source": [
    "$\\ket{\\psi_1} = \\frac{1}{\\sqrt{2^m}}\\sum_{x \\in \\{0,1\\}^n} \\ket{\\boldsymbol{x}, \\boldsymbol{0_n}}$"
   ]
  },
  {
   "cell_type": "markdown",
   "id": "2e02db7a",
   "metadata": {},
   "source": [
    "$\\ket{\\psi_2} = \\frac{1}{\\sqrt{2^m}} \\sum_{x \\in \\{0,1\\}^n} \\ket{\\boldsymbol{x}, f_{a,N}\\boldsymbol{x}}$"
   ]
  },
  {
   "cell_type": "markdown",
   "id": "fa773d07",
   "metadata": {},
   "source": [
    "$\\ket{\\psi_2} = \\frac{1}{\\sqrt{2^m}} \\sum_{x \\in \\{0,1\\}^n} \\ket{\\boldsymbol{x}, a^{\\boldsymbol{x}}\n",
    "\\mod N}$"
   ]
  },
  {
   "cell_type": "markdown",
   "id": "700e00e4",
   "metadata": {},
   "source": [
    "# Shor’s algorithm: \n",
    "Input: A positive integer N with n = [log2 N]. \n",
    "\n",
    "Output: A factor p of N if it exists. \n",
    "\n",
    "Step 1. Use a polynomial algorithm to determine if N is prime or a power of\n",
    "prime. If it is a prime, declare that it is and exit. If it is a power of a\n",
    "prime number, declare that it is and exit. \n",
    "\n",
    "Step 2. Randomly choose an integer a such that 1 < a< N. Perform Euclid’s\n",
    "algorithm to determine GCD(a, N). If the GCD is not 1, then return it and exit. \n",
    "\n",
    "Step 3. Use quantum circuit (6.166) to find a period r. \n",
    "\n",
    "Step 4. If r is odd or if ar ≡ −1 Mod N, then return to Step 2 and choose\n",
    "another a. \n",
    "\n",
    "Step 5. Use Euclid’s algorithm to calculate  and . Return at least one of the nontrivial solutions.\n"
   ]
  },
  {
   "cell_type": "markdown",
   "id": "c7afc470",
   "metadata": {},
   "source": [
    "# Siguiendo el paso a paso "
   ]
  },
  {
   "cell_type": "code",
   "execution_count": null,
   "id": "095f50f1",
   "metadata": {},
   "outputs": [
    {
     "name": "stdout",
     "output_type": "stream",
     "text": [
      "\n",
      "INICIANDO ALGORITMO DE SHOR PARA N = 15\n",
      "----------------------------------------\n",
      "\n",
      "=== PASO 1 ===\n",
      "Verificando si 15 es primo o potencia de primo...\n",
      "Resultado: 15 no es primo ni potencia de primo. Continuando al paso 2.\n",
      "\n",
      "=== PASO 2 ===\n",
      "Buscando un número a coprimo con 15...\n",
      "Probando a = 4...\n",
      "a = 4 es coprimo con N = 15. Continuando al paso 3.\n",
      "\n",
      "=== PASO 3 (SIMULACIÓN CUÁNTICA) ===\n",
      "Buscando el período r de la función f(x) = 4^x mod 15\n",
      "Posible período encontrado: r = 2\n",
      "Verificación: 4^2 mod 15 = 1\n",
      "\n",
      "=== PASO 4 ===\n",
      "Verificando si el período r = 2 es válido...\n",
      "Período válido encontrado: r = 2\n",
      "a^(r/2) mod N = 4 (no es ≡ -1 mod 15)\n",
      "\n",
      "=== PASO 5 ===\n",
      "Calculando factores no triviales...\n",
      "Cálculos intermedios:\n",
      "a^(r/2) mod N = 4^(1) mod 15 = 4\n",
      "gcd(4-1, 15) = gcd(3, 15) = 3\n",
      "gcd(4+1, 15) = gcd(5, 15) = 5\n",
      "¡Factores encontrados!: [3, 5]\n",
      "\n",
      "========================================\n",
      "RESULTADO FINAL: Los factores de 15 son [3, 5]\n",
      "========================================\n"
     ]
    }
   ],
   "source": [
    "import math\n",
    "from math import gcd\n",
    "from random import randint\n",
    "import sys\n",
    "\n",
    "\n",
    "## Paso 1: Verificar si N es primo o potencia de primo\n",
    "\n",
    "\n",
    "def is_prime(n):\n",
    "    \"\"\"Test de primalidad de Miller-Rabin para el paso 1\"\"\"\n",
    "    if n < 2: return False\n",
    "    for p in [2, 3, 5, 7, 11, 13, 17, 19, 23, 29, 31]:\n",
    "        if n % p == 0: return n == p\n",
    "    d = n - 1\n",
    "    s = 0\n",
    "    while d % 2 == 0:\n",
    "        d //= 2\n",
    "        s += 1\n",
    "    for a in [2, 3, 5, 7, 11, 13, 17, 19, 23, 29, 31]:\n",
    "        if a >= n: continue\n",
    "        x = pow(a, d, n)\n",
    "        if x == 1 or x == n - 1: continue\n",
    "        for _ in range(s - 1):\n",
    "            x = pow(x, 2, n)\n",
    "            if x == n - 1: break\n",
    "        else: return False\n",
    "    return True\n",
    "\n",
    "def is_prime_power(n):\n",
    "    \"\"\"Verifica si n es potencia de primo para el paso 1\"\"\"\n",
    "    if n < 2: return False\n",
    "    max_k = int(math.log2(n)) + 2\n",
    "    for k in range(2, max_k):\n",
    "        root = round(n ** (1/k))\n",
    "        if pow(root, k) == n and is_prime(root):\n",
    "            return True\n",
    "    return False\n",
    "\n",
    "def shor_step_1(N):\n",
    "    print(\"\\n=== PASO 1 ===\")\n",
    "    print(f\"Verificando si {N} es primo o potencia de primo...\")\n",
    "    \n",
    "    if is_prime(N):\n",
    "        print(f\"Resultado: {N} es primo. Terminando algoritmo.\")\n",
    "        sys.exit()\n",
    "    \n",
    "    if is_prime_power(N):\n",
    "        print(f\"Resultado: {N} es potencia de primo. Terminando algoritmo.\")\n",
    "        sys.exit()\n",
    "    \n",
    "    print(f\"Resultado: {N} no es primo ni potencia de primo. Continuando al paso 2.\")\n",
    "    return False\n",
    "\n",
    "## Paso 2: Elegir a aleatorio y calcular gcd(a, N)\n",
    "\n",
    "\n",
    "def shor_step_2(N):\n",
    "    print(\"\\n=== PASO 2 ===\")\n",
    "    print(f\"Buscando un número a coprimo con {N}...\")\n",
    "    \n",
    "    while True:\n",
    "        a = randint(2, N-1)\n",
    "        print(f\"Probando a = {a}...\")\n",
    "        g = gcd(a, N)\n",
    "        \n",
    "        if g != 1:\n",
    "            print(f\"¡Encontrado factor no trivial! gcd({a}, {N}) = {g}\")\n",
    "            print(f\"Factor encontrado: {g}\")\n",
    "            sys.exit()\n",
    "        else:\n",
    "            print(f\"a = {a} es coprimo con N = {N}. Continuando al paso 3.\")\n",
    "            return a\n",
    "\n",
    "\n",
    "## Paso 3: Encontrar el período (simulación cuántica)\n",
    "\n",
    "\n",
    "def quantum_period_finding(a, N):\n",
    "    print(\"\\n=== PASO 3 (SIMULACIÓN CUÁNTICA) ===\")\n",
    "    print(f\"Buscando el período r de la función f(x) = {a}^x mod {N}\")\n",
    "    \n",
    "    # En implementación real sería con QFT, aquí simulamos\n",
    "    for r in range(1, N):\n",
    "        if pow(a, r, N) == 1:\n",
    "            print(f\"Posible período encontrado: r = {r}\")\n",
    "            print(f\"Verificación: {a}^{r} mod {N} = {pow(a, r, N)}\")\n",
    "            return r\n",
    "    \n",
    "    print(\"No se encontró período. Volviendo al paso 2.\")\n",
    "    return None\n",
    "\n",
    "\n",
    "## Paso 4: Verificar si el período es válido\n",
    "\n",
    "\n",
    "def shor_step_4(a, r, N):\n",
    "    print(\"\\n=== PASO 4 ===\")\n",
    "    print(f\"Verificando si el período r = {r} es válido...\")\n",
    "    \n",
    "    if r % 2 != 0:\n",
    "        print(f\"r es impar ({r}). No válido. Volviendo al paso 2.\")\n",
    "        return False\n",
    "    \n",
    "    x = pow(a, r//2, N)\n",
    "    if x == N - 1:\n",
    "        print(f\"a^(r/2) mod N = {x} ≡ -1 mod {N}. No válido. Volviendo al paso 2.\")\n",
    "        return False\n",
    "    \n",
    "    print(f\"Período válido encontrado: r = {r}\")\n",
    "    print(f\"a^(r/2) mod N = {x} (no es ≡ -1 mod {N})\")\n",
    "    return True\n",
    "\n",
    "\n",
    "## Paso 5: Calcular los factores\n",
    "\n",
    "\n",
    "def shor_step_5(a, r, N):\n",
    "    print(\"\\n=== PASO 5 ===\")\n",
    "    print(\"Calculando factores no triviales...\")\n",
    "    \n",
    "    x = pow(a, r//2, N)\n",
    "    p = gcd(x - 1, N)\n",
    "    q = gcd(x + 1, N)\n",
    "    \n",
    "    print(f\"Cálculos intermedios:\")\n",
    "    print(f\"a^(r/2) mod N = {a}^({r//2}) mod {N} = {x}\")\n",
    "    print(f\"gcd({x}-1, {N}) = gcd({x-1}, {N}) = {p}\")\n",
    "    print(f\"gcd({x}+1, {N}) = gcd({x+1}, {N}) = {q}\")\n",
    "    \n",
    "    factors = []\n",
    "    if p not in [1, N]: factors.append(p)\n",
    "    if q not in [1, N]: factors.append(q)\n",
    "    \n",
    "    if factors:\n",
    "        print(f\"¡Factores encontrados!: {factors}\")\n",
    "        return factors\n",
    "    else:\n",
    "        print(\"No se encontraron factores no triviales.\")\n",
    "        return None\n",
    "\n",
    "\n",
    "## Algoritmo completo con ejemplo N=15\n",
    "\n",
    "\n",
    "def shor_algorithm(N):\n",
    "    print(f\"\\nINICIANDO ALGORITMO DE SHOR PARA N = {N}\")\n",
    "    print(\"----------------------------------------\")\n",
    "    \n",
    "    # Paso 1\n",
    "    shor_step_1(N)\n",
    "    \n",
    "    while True:\n",
    "        # Paso 2\n",
    "        a = shor_step_2(N)\n",
    "        \n",
    "        # Paso 3 (simulación cuántica)\n",
    "        r = quantum_period_finding(a, N)\n",
    "        if r is None:\n",
    "            continue\n",
    "        \n",
    "        # Paso 4\n",
    "        if not shor_step_4(a, r, N):\n",
    "            continue\n",
    "        \n",
    "        # Paso 5\n",
    "        factors = shor_step_5(a, r, N)\n",
    "        if factors:\n",
    "            print(f\"RESULTADO FINAL: Los factores de {N} son {factors}\")\n",
    "            return factors\n",
    "\n",
    "# Ejecutamos con N=15 como ejemplo\n",
    "if __name__ == \"__main__\":\n",
    "    N = 15\n",
    "    shor_algorithm(N)"
   ]
  },
  {
   "cell_type": "markdown",
   "id": "425aa6cb",
   "metadata": {},
   "source": [
    "\n",
    "## Further Reading\n",
    "\n",
    "For those interested in diving deeper into Shor's algorithm and quantum computing, here are some resources:\n",
    "\n",
    "- Yanofsky, Noson S.; Mannucci, Mirco A.. Quantum Computing for Computer Scientists (English Edition) (p. 217). Cambridge University Press. Kindle Edition. \n",
    "- Nielsen, M. A., & Chuang, I. L. (2010). Quantum Computation and Quantum Information.\n",
    "- Kaye, P., Laflamme, R., & Mosca, M. (2007). An Introduction to Quantum Computing.\n",
    "- [Qiskit Documentation](https://qiskit.org/documentation/)\n"
   ]
  },
  {
   "cell_type": "markdown",
   "id": "b9b6000b",
   "metadata": {},
   "source": []
  }
 ],
 "metadata": {
  "kernelspec": {
   "display_name": "base",
   "language": "python",
   "name": "python3"
  },
  "language_info": {
   "codemirror_mode": {
    "name": "ipython",
    "version": 3
   },
   "file_extension": ".py",
   "mimetype": "text/x-python",
   "name": "python",
   "nbconvert_exporter": "python",
   "pygments_lexer": "ipython3",
   "version": "3.11.7"
  }
 },
 "nbformat": 4,
 "nbformat_minor": 5
}
