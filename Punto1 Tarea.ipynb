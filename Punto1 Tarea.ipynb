{
 "cells": [
  {
   "cell_type": "markdown",
   "metadata": {},
   "source": [
    "# Simule el primer sistema cuántico descrito en la sección 4.1.\n",
    "\n",
    "El sistema consiste en una partícula confinada a un conjunto discreto de posiciones en una línea. El simulador debe permitir especificar el número de posiciones y un vector ket de estado asignando las amplitudes.\n",
    "\n",
    "1. El sistema debe calcular la probabilidad de encontrarlo en una posición en particular.\n",
    "\n",
    "2. El sistema si se le da otro vector Ket debe buscar la probabilidad de transitar del primer vector al segundo."
   ]
  },
  {
   "cell_type": "code",
   "execution_count": null,
   "metadata": {},
   "outputs": [],
   "source": [
    "import numpy as np\n",
    "\n",
    "def normalize_ket(quantum_state):\n",
    "    \"\"\" Normaliza un vector ket.\"\"\"\n",
    "    norm = np.linalg.norm(quantum_state)\n",
    "    return quantum_state / norm if norm != 0 else quantum_state\n",
    "\n",
    "def probability_at_position(quantum_state, position):\n",
    "    \"\"\" Calcula la probabilidad de encontrar la partícula en una posición dada.\"\"\"\n",
    "    return abs(quantum_state[position])**2\n",
    "\n",
    "def transition_probability(initial_state, final_state):\n",
    "    \"\"\" Calcula la probabilidad de transición entre dos vectores ket.\"\"\"\n",
    "    initial_state = normalize_ket(initial_state)\n",
    "    final_state = normalize_ket(final_state)\n",
    "    inner_product = np.vdot(initial_state, final_state)\n",
    "    return abs(inner_product)**2\n",
    "\n",
    "# Ejemplo de uso\n",
    "num_positions = 5  # Número de posiciones en la línea\n",
    "state_A = np.array([1, 1, 0, 0, 0], dtype=complex)\n",
    "state_B = np.array([0, 1, 1, 0, 0], dtype=complex)\n",
    "\n",
    "state_A = normalize_ket(state_A)\n",
    "state_B = normalize_ket(state_B)\n",
    "\n",
    "print(\"Estado A normalizado:\", state_A)\n",
    "print(\"Estado B normalizado:\", state_B)\n",
    "print(\"Probabilidad de encontrar la partícula en la posición 1:\", probability_at_position(state_A, 1))\n",
    "print(\"Probabilidad de transición de estado A a estado B:\", transition_probability(state_A, state_B))\n"
   ]
  }
 ],
 "metadata": {
  "language_info": {
   "name": "python"
  }
 },
 "nbformat": 4,
 "nbformat_minor": 2
}
